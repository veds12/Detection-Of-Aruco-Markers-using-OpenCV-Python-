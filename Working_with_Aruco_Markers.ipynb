{
 "cells": [
  {
   "cell_type": "code",
   "execution_count": 47,
   "metadata": {},
   "outputs": [],
   "source": [
    "import cv2\n",
    "import cv2.aruco as ar #importing the aruco module from OpenCV\n",
    "import numpy as np\n",
    "import matplotlib.pyplot as plt #to plot images \n",
    "%matplotlib inline              "
   ]
  },
  {
   "cell_type": "code",
   "execution_count": 48,
   "metadata": {},
   "outputs": [
    {
     "data": {
      "text/plain": [
       "True"
      ]
     },
     "execution_count": 48,
     "metadata": {},
     "output_type": "execute_result"
    }
   ],
   "source": [
    "dictionary = ar.Dictionary_get(ar.DICT_6X6_250) #Creating the dictionary object \n",
    "img = ar.drawMarker(dictionary,23,700,1)\n",
    "cv2.imwrite('test_marker.jpg',img)              #Saving the marker"
   ]
  },
  {
   "cell_type": "markdown",
   "metadata": {},
   "source": [
    "You can use the cv2.imshow() function to diplay the loaded image. However, in that case the image will be displayed in a new window. Here, I have used the imshow() function from pyplot module of matplot which allow us to display the plots/images inside the jupyter notebook itself (using the command '%matplotlib inline' given in the first cell)."
   ]
  },
  {
   "cell_type": "code",
   "execution_count": 41,
   "metadata": {},
   "outputs": [
    {
     "data": {
      "image/png": "[encoded data removed]",
      "text/plain": [
       "<Figure size 432x288 with 1 Axes>"
      ]
     },
     "metadata": {},
     "output_type": "display_data"
    }
   ],
   "source": [
    "plt.imshow(img,'gray')            #using matplotlib to display the image inline the notebook\n",
    "plt.xticks([]),plt.yticks([])     #to remove the scales on the x and the y axes\n",
    "plt.show()"
   ]
  },
  {
   "cell_type": "markdown",
   "metadata": {},
   "source": [
    "Now, to summarize, I will load the saved image using the cv2.imread() function and display it using the plt.imshow() function and we can verify that the image was correctly saved."
   ]
  },
  {
   "cell_type": "code",
   "execution_count": 49,
   "metadata": {},
   "outputs": [
    {
     "data": {
      "image/png": "[encoded data removed]",
      "text/plain": [
       "<Figure size 432x288 with 1 Axes>"
      ]
     },
     "metadata": {},
     "output_type": "display_data"
    }
   ],
   "source": [
    "img2 = cv2.imread('test_marker.jpg',0)      #loading the saved marker using OpenCV and displaying it \n",
    "plt.imshow(img2,'gray')                     #using matplotlib                        \n",
    "plt.xticks([]),plt.yticks([])\n",
    "plt.show()"
   ]
  },
  {
   "cell_type": "markdown",
   "metadata": {},
   "source": [
    "Now, having learnt how to create and save aruco markers, we can now proceed to see how to detect aruco markers using OpenCV.\n",
    "The next two cells implement the code for detecting aruco markers in an image since it is more simple (instead of jumping directly to detecting them in a video). "
   ]
  },
  {
   "cell_type": "code",
   "execution_count": 53,
   "metadata": {},
   "outputs": [],
   "source": [
    "param = ar.DetectorParameters_create()               #Defining an the parameter object. It contains all the \n",
    "                                                     #customizable parameters of the markers\n",
    "marker = cv2.imread('test_image2.png',-1)\n",
    "corners, ids, rejectedImgPoints = ar.detectMarkers(marker, dictionary, parameters=param)\n",
    "\n",
    "#First argument of the detectMarkers() function is the image in which the markers have to be detected, second is the \n",
    "#dictionary to which the aruco tags to be scanned belong to, and last is the parameter object. The function \n",
    "#returns positions of the corners of the detected markers, the ids of the identified markers and a list\n",
    "#of potential candidates that were rejected during the identification process\n",
    "                                                       "
   ]
  },
  {
   "cell_type": "code",
   "execution_count": 55,
   "metadata": {},
   "outputs": [
    {
     "data": {
      "image/png": "[encoded data removed]",
      "text/plain": [
       "<Figure size 432x288 with 1 Axes>"
      ]
     },
     "metadata": {},
     "output_type": "display_data"
    }
   ],
   "source": [
    "marker = ar.drawDetectedMarkers(marker, corners)  #Function to mark the corners and the boundary of the identified\n",
    "                                                  #markers on the image\n",
    "plt.imshow(marker,'gray')\n",
    "plt.xticks([]),plt.yticks([])\n",
    "plt.show()"
   ]
  },
  {
   "cell_type": "markdown",
   "metadata": {},
   "source": [
    "The markings are not visible properly but you can see greenish lines on one of the sides of both the markers and litte blue dots(actually squares) on the corners of both markers.\n",
    "Now, let's use this implementation to detect markers in a live video:\n",
    "Note: You can execute the given block of code directly after executing the first cell as both the dictionary and parameter object have been declared again and differently. Als, note that the dictionary used in this implementation contains 5X5 aruco markers(we have been using 6X6 till now). So, it will be able to detect only 5X5 aruco markers. "
   ]
  },
  {
   "cell_type": "code",
   "execution_count": 35,
   "metadata": {},
   "outputs": [],
   "source": [
    "vid = cv2.VideoCapture(0)\n",
    "while(True):\n",
    "    ret,frame = vid.read()\n",
    "    gray = cv2.cvtColor(frame, cv2.COLOR_BGR2GRAY)  \n",
    "    dictionary1 = ar.Dictionary_get(ar.DICT_5X5_250)\n",
    "    param1 = ar.DetectorParameters_create()         \n",
    "    corners,ids,rejectedImgPoints = ar.detectMarkers(gray,dictionary1,parameters=param1)\n",
    "    gray = ar.drawDetectedMarkers(gray, corners)    #Draw the corner and the boundary of the detected marker \n",
    "                                                    #in the frame\n",
    "    cv2.imshow('frame',gray)                        \n",
    "    if cv2.waitKey(1) & 0xFF == ord('q'):\n",
    "        break\n",
    "vid.release()\n",
    "cv2.destroyAllWindows()"
   ]
  },
  {
   "cell_type": "code",
   "execution_count": null,
   "metadata": {},
   "outputs": [],
   "source": []
  },
  {
   "cell_type": "code",
   "execution_count": null,
   "metadata": {},
   "outputs": [],
   "source": []
  }
 ],
 "metadata": {
  "kernelspec": {
   "display_name": "Python 3",
   "language": "python",
   "name": "python3"
  },
  "language_info": {
   "codemirror_mode": {
    "name": "ipython",
    "version": 3
   },
   "file_extension": ".py",
   "mimetype": "text/x-python",
   "name": "python",
   "nbconvert_exporter": "python",
   "pygments_lexer": "ipython3",
   "version": "3.7.4"
  }
 },
 "nbformat": 4,
 "nbformat_minor": 2
}
